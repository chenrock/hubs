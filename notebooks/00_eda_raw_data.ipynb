{
 "cells": [
  {
   "cell_type": "code",
   "execution_count": 1,
   "id": "430171b4-5eae-4508-8c4a-843116a35548",
   "metadata": {},
   "outputs": [],
   "source": [
    "import matplotlib.dates as mdates\n",
    "import matplotlib.pyplot as plt\n",
    "import pandas as pd"
   ]
  },
  {
   "cell_type": "code",
   "execution_count": 2,
   "id": "37bff244-d5c6-46cc-9b9a-d63369b48657",
   "metadata": {},
   "outputs": [],
   "source": [
    "# read data\n",
    "customers = pd.read_csv(\"../data/raw/customers_(4).csv\")\n",
    "noncustomers = pd.read_csv(\"../data/raw/noncustomers_(4).csv\")\n",
    "usage = pd.read_csv(\"../data/raw/usage_actions_(4).csv\")"
   ]
  },
  {
   "cell_type": "code",
   "execution_count": 3,
   "id": "b3a0c5de-ef59-4e9c-ba5b-7a89302e2767",
   "metadata": {},
   "outputs": [],
   "source": [
    "pd.options.display.max_rows = None"
   ]
  },
  {
   "cell_type": "markdown",
   "id": "064752a9-dd4c-4289-82ba-874d793a968c",
   "metadata": {
    "jp-MarkdownHeadingCollapsed": true
   },
   "source": [
    "# customers"
   ]
  },
  {
   "cell_type": "code",
   "execution_count": 4,
   "id": "1776b935-89eb-4fb1-91c3-e842a8f649ed",
   "metadata": {},
   "outputs": [
    {
     "data": {
      "text/plain": [
       "(200, 6)"
      ]
     },
     "execution_count": 4,
     "metadata": {},
     "output_type": "execute_result"
    }
   ],
   "source": [
    "customers.shape"
   ]
  },
  {
   "cell_type": "code",
   "execution_count": 5,
   "id": "66fab594-d9fa-48e7-9189-21ad64524c66",
   "metadata": {},
   "outputs": [
    {
     "data": {
      "text/html": [
       "<div>\n",
       "<style scoped>\n",
       "    .dataframe tbody tr th:only-of-type {\n",
       "        vertical-align: middle;\n",
       "    }\n",
       "\n",
       "    .dataframe tbody tr th {\n",
       "        vertical-align: top;\n",
       "    }\n",
       "\n",
       "    .dataframe thead th {\n",
       "        text-align: right;\n",
       "    }\n",
       "</style>\n",
       "<table border=\"1\" class=\"dataframe\">\n",
       "  <thead>\n",
       "    <tr style=\"text-align: right;\">\n",
       "      <th></th>\n",
       "      <th>CLOSEDATE</th>\n",
       "      <th>MRR</th>\n",
       "      <th>ALEXA_RANK</th>\n",
       "      <th>EMPLOYEE_RANGE</th>\n",
       "      <th>INDUSTRY</th>\n",
       "      <th>id</th>\n",
       "    </tr>\n",
       "  </thead>\n",
       "  <tbody>\n",
       "    <tr>\n",
       "      <th>0</th>\n",
       "      <td>2019-06-20</td>\n",
       "      <td>290.00</td>\n",
       "      <td>309343</td>\n",
       "      <td>201 to 1000</td>\n",
       "      <td>Other</td>\n",
       "      <td>199</td>\n",
       "    </tr>\n",
       "    <tr>\n",
       "      <th>1</th>\n",
       "      <td>2019-03-22</td>\n",
       "      <td>392.54</td>\n",
       "      <td>16000001</td>\n",
       "      <td>51 to 200</td>\n",
       "      <td>NaN</td>\n",
       "      <td>147</td>\n",
       "    </tr>\n",
       "    <tr>\n",
       "      <th>2</th>\n",
       "      <td>2020-01-08</td>\n",
       "      <td>-61.15</td>\n",
       "      <td>60502</td>\n",
       "      <td>1001 to 10000</td>\n",
       "      <td>HIGHER_EDUCATION</td>\n",
       "      <td>118</td>\n",
       "    </tr>\n",
       "    <tr>\n",
       "      <th>3</th>\n",
       "      <td>2019-09-19</td>\n",
       "      <td>400.00</td>\n",
       "      <td>3575321</td>\n",
       "      <td>201 to 1000</td>\n",
       "      <td>CONSUMER_SERVICES</td>\n",
       "      <td>126</td>\n",
       "    </tr>\n",
       "    <tr>\n",
       "      <th>4</th>\n",
       "      <td>2019-01-27</td>\n",
       "      <td>209.98</td>\n",
       "      <td>273063</td>\n",
       "      <td>26 to 50</td>\n",
       "      <td>Technology - Software</td>\n",
       "      <td>174</td>\n",
       "    </tr>\n",
       "  </tbody>\n",
       "</table>\n",
       "</div>"
      ],
      "text/plain": [
       "    CLOSEDATE     MRR  ALEXA_RANK EMPLOYEE_RANGE               INDUSTRY   id\n",
       "0  2019-06-20  290.00      309343    201 to 1000                  Other  199\n",
       "1  2019-03-22  392.54    16000001      51 to 200                    NaN  147\n",
       "2  2020-01-08  -61.15       60502  1001 to 10000       HIGHER_EDUCATION  118\n",
       "3  2019-09-19  400.00     3575321    201 to 1000      CONSUMER_SERVICES  126\n",
       "4  2019-01-27  209.98      273063       26 to 50  Technology - Software  174"
      ]
     },
     "execution_count": 5,
     "metadata": {},
     "output_type": "execute_result"
    }
   ],
   "source": [
    "customers.head()"
   ]
  },
  {
   "cell_type": "code",
   "execution_count": 6,
   "id": "e894f1db-d3cb-499c-b712-fe514b2e712b",
   "metadata": {
    "scrolled": true
   },
   "outputs": [
    {
     "data": {
      "text/plain": [
       "CLOSEDATE          object\n",
       "MRR               float64\n",
       "ALEXA_RANK          int64\n",
       "EMPLOYEE_RANGE     object\n",
       "INDUSTRY           object\n",
       "id                  int64\n",
       "dtype: object"
      ]
     },
     "execution_count": 6,
     "metadata": {},
     "output_type": "execute_result"
    }
   ],
   "source": [
    "customers.dtypes"
   ]
  },
  {
   "cell_type": "code",
   "execution_count": 7,
   "id": "a8d3eec3-56d0-483f-8ba2-31c9ad8e10df",
   "metadata": {},
   "outputs": [],
   "source": [
    "customers[\"CLOSEDATE\"] = pd.to_datetime(customers[\"CLOSEDATE\"])"
   ]
  },
  {
   "cell_type": "code",
   "execution_count": 8,
   "id": "be660f6b-3db3-4ece-9720-9738daa720c3",
   "metadata": {},
   "outputs": [
    {
     "data": {
      "text/plain": [
       "Timestamp('2019-01-15 00:00:00')"
      ]
     },
     "execution_count": 8,
     "metadata": {},
     "output_type": "execute_result"
    }
   ],
   "source": [
    "customers.CLOSEDATE.min()"
   ]
  },
  {
   "cell_type": "code",
   "execution_count": 9,
   "id": "e1e2dc42-35e9-439d-b3bf-e4bfb9ca8b41",
   "metadata": {
    "scrolled": true
   },
   "outputs": [
    {
     "data": {
      "text/plain": [
       "Timestamp('2020-08-18 00:00:00')"
      ]
     },
     "execution_count": 9,
     "metadata": {},
     "output_type": "execute_result"
    }
   ],
   "source": [
    "customers.CLOSEDATE.max()"
   ]
  },
  {
   "cell_type": "code",
   "execution_count": 10,
   "id": "0b104802-9970-41e7-89de-c492e5735adb",
   "metadata": {},
   "outputs": [
    {
     "data": {
      "image/png": "[encoded data removed]",
      "text/plain": [
       "<Figure size 640x480 with 1 Axes>"
      ]
     },
     "metadata": {},
     "output_type": "display_data"
    }
   ],
   "source": [
    "fig, ax = plt.subplots()\n",
    "ax.hist(customers[\"CLOSEDATE\"], bins=50)\n",
    "ax.set_xlabel(\"Date\")\n",
    "ax.set_ylabel(\"Count\")\n",
    "ax.set_title(\"Date Distribution\")\n",
    "ax.xaxis.set_major_locator(mdates.MonthLocator())\n",
    "ax.xaxis.set_major_formatter(mdates.DateFormatter(\"%Y-%m\"))\n",
    "plt.xticks(rotation=45)\n",
    "plt.tight_layout()\n",
    "plt.show()"
   ]
  },
  {
   "cell_type": "code",
   "execution_count": 11,
   "id": "7f9274bc-9a61-4a3c-b629-e14789055830",
   "metadata": {},
   "outputs": [
    {
     "data": {
      "text/plain": [
       "count    2.000000e+02\n",
       "mean     6.866970e+06\n",
       "std      6.515751e+06\n",
       "min      7.826000e+03\n",
       "25%      1.093701e+06\n",
       "50%      3.675518e+06\n",
       "75%      1.600000e+07\n",
       "max      1.600000e+07\n",
       "Name: ALEXA_RANK, dtype: float64"
      ]
     },
     "execution_count": 11,
     "metadata": {},
     "output_type": "execute_result"
    }
   ],
   "source": [
    "customers.ALEXA_RANK.describe()"
   ]
  },
  {
   "cell_type": "code",
   "execution_count": 12,
   "id": "6701a124-4b83-4dcd-b5e8-5b7f28d23cf9",
   "metadata": {},
   "outputs": [
    {
     "data": {
      "text/plain": [
       "np.int64(7826)"
      ]
     },
     "execution_count": 12,
     "metadata": {},
     "output_type": "execute_result"
    }
   ],
   "source": [
    "customers.ALEXA_RANK.min()"
   ]
  },
  {
   "cell_type": "code",
   "execution_count": 13,
   "id": "9a0b36ba-0d5f-4177-ae91-03c87bc02655",
   "metadata": {},
   "outputs": [
    {
     "data": {
      "text/plain": [
       "np.int64(16000001)"
      ]
     },
     "execution_count": 13,
     "metadata": {},
     "output_type": "execute_result"
    }
   ],
   "source": [
    "customers.ALEXA_RANK.max()"
   ]
  },
  {
   "cell_type": "code",
   "execution_count": 14,
   "id": "11ef081b-a6ab-43bb-a122-3c84a96f4ecb",
   "metadata": {},
   "outputs": [
    {
     "data": {
      "text/plain": [
       "np.float64(6866970.18)"
      ]
     },
     "execution_count": 14,
     "metadata": {},
     "output_type": "execute_result"
    }
   ],
   "source": [
    "customers.ALEXA_RANK.mean()"
   ]
  },
  {
   "cell_type": "code",
   "execution_count": 15,
   "id": "04aa57d0-8b5b-4575-90d6-445c9f547a85",
   "metadata": {},
   "outputs": [
    {
     "data": {
      "text/plain": [
       "EMPLOYEE_RANGE\n",
       "6 to 10           56\n",
       "2 to 5            34\n",
       "26 to 50          32\n",
       "11 to 25          30\n",
       "201 to 1000       22\n",
       "51 to 200         18\n",
       "1001 to 10000      4\n",
       "10,001 or more     1\n",
       "1                  1\n",
       "Name: count, dtype: int64"
      ]
     },
     "execution_count": 15,
     "metadata": {},
     "output_type": "execute_result"
    }
   ],
   "source": [
    "customers.EMPLOYEE_RANGE.value_counts()"
   ]
  },
  {
   "cell_type": "code",
   "execution_count": 16,
   "id": "9d0ca65c-d9fe-459f-b42a-a64cf88c7434",
   "metadata": {},
   "outputs": [
    {
     "data": {
      "text/plain": [
       "INDUSTRY\n",
       "COMPUTER_SOFTWARE                           14\n",
       "Technology - Software                        7\n",
       "MARKETING_AND_ADVERTISING                    6\n",
       "INFORMATION_TECHNOLOGY_AND_SERVICES          3\n",
       "OIL_ENERGY                                   2\n",
       "HIGHER_EDUCATION                             2\n",
       "Consulting/Advisory                          2\n",
       "REAL_ESTATE                                  2\n",
       "RENEWABLES_ENVIRONMENT                       2\n",
       "FINANCIAL_SERVICES                           2\n",
       "LEISURE_TRAVEL_TOURISM                       1\n",
       "DESIGN                                       1\n",
       "INSURANCE                                    1\n",
       "FOOD_BEVERAGES                               1\n",
       "RETAIL                                       1\n",
       "HEALTH_WELLNESS_AND_FITNESS                  1\n",
       "UTILITIES                                    1\n",
       "ENVIRONMENTAL_SERVICES                       1\n",
       "Banking/Financial Services                   1\n",
       "STAFFING_AND_RECRUITING                      1\n",
       "MEDICAL_DEVICES                              1\n",
       "EDUCATION_MANAGEMENT                         1\n",
       "Software                                     1\n",
       "WINE_AND_SPIRITS                             1\n",
       "Other                                        1\n",
       "MECHANICAL_OR_INDUSTRIAL_ENGINEERING         1\n",
       "MANAGEMENT_CONSULTING                        1\n",
       "COMPUTER_NETWORK_SECURITY                    1\n",
       "Recruiting/Staffing                          1\n",
       "Business Consulting                          1\n",
       "Computers, Networking, Software, Technol     1\n",
       "ACCOUNTING                                   1\n",
       "NON_PROFIT_ORGANIZATION_MANAGEMENT           1\n",
       "INDUSTRIAL_AUTOMATION                        1\n",
       "SaaS                                         1\n",
       "E_LEARNING                                   1\n",
       "BUILDING_MATERIALS                           1\n",
       "CONSUMER_SERVICES                            1\n",
       "Cannabinoid                                  1\n",
       "Name: count, dtype: int64"
      ]
     },
     "execution_count": 16,
     "metadata": {},
     "output_type": "execute_result"
    }
   ],
   "source": [
    "customers.INDUSTRY.value_counts()"
   ]
  },
  {
   "cell_type": "code",
   "execution_count": 17,
   "id": "42a13f53-0bec-4214-916a-41006df3bfe2",
   "metadata": {},
   "outputs": [
    {
     "data": {
      "text/plain": [
       "200"
      ]
     },
     "execution_count": 17,
     "metadata": {},
     "output_type": "execute_result"
    }
   ],
   "source": [
    "customers[\"id\"].nunique()"
   ]
  },
  {
   "cell_type": "markdown",
   "id": "b6c4d9e8-b7e3-46c4-9304-cac866dfe1a0",
   "metadata": {},
   "source": [
    "# noncustomers"
   ]
  },
  {
   "cell_type": "code",
   "execution_count": 18,
   "id": "e3c1f2c3-7e48-4975-8a89-a99eb396535b",
   "metadata": {},
   "outputs": [
    {
     "data": {
      "text/plain": [
       "(5003, 4)"
      ]
     },
     "execution_count": 18,
     "metadata": {},
     "output_type": "execute_result"
    }
   ],
   "source": [
    "noncustomers.shape"
   ]
  },
  {
   "cell_type": "code",
   "execution_count": 19,
   "id": "46f35c27-9e69-47f3-92de-ac4182a5f4e2",
   "metadata": {},
   "outputs": [
    {
     "data": {
      "text/html": [
       "<div>\n",
       "<style scoped>\n",
       "    .dataframe tbody tr th:only-of-type {\n",
       "        vertical-align: middle;\n",
       "    }\n",
       "\n",
       "    .dataframe tbody tr th {\n",
       "        vertical-align: top;\n",
       "    }\n",
       "\n",
       "    .dataframe thead th {\n",
       "        text-align: right;\n",
       "    }\n",
       "</style>\n",
       "<table border=\"1\" class=\"dataframe\">\n",
       "  <thead>\n",
       "    <tr style=\"text-align: right;\">\n",
       "      <th></th>\n",
       "      <th>ALEXA_RANK</th>\n",
       "      <th>EMPLOYEE_RANGE</th>\n",
       "      <th>INDUSTRY</th>\n",
       "      <th>id</th>\n",
       "    </tr>\n",
       "  </thead>\n",
       "  <tbody>\n",
       "    <tr>\n",
       "      <th>0</th>\n",
       "      <td>4489573.0</td>\n",
       "      <td>11 to 25</td>\n",
       "      <td>NaN</td>\n",
       "      <td>4916</td>\n",
       "    </tr>\n",
       "    <tr>\n",
       "      <th>1</th>\n",
       "      <td>4027013.0</td>\n",
       "      <td>6 to 10</td>\n",
       "      <td>NaN</td>\n",
       "      <td>3489</td>\n",
       "    </tr>\n",
       "    <tr>\n",
       "      <th>2</th>\n",
       "      <td>16000001.0</td>\n",
       "      <td>26 to 50</td>\n",
       "      <td>COMPUTER_SOFTWARE</td>\n",
       "      <td>2813</td>\n",
       "    </tr>\n",
       "    <tr>\n",
       "      <th>3</th>\n",
       "      <td>814822.0</td>\n",
       "      <td>1001 to 10000</td>\n",
       "      <td>HOSPITAL_HEALTH_CARE</td>\n",
       "      <td>727</td>\n",
       "    </tr>\n",
       "    <tr>\n",
       "      <th>4</th>\n",
       "      <td>16000001.0</td>\n",
       "      <td>26 to 50</td>\n",
       "      <td>NaN</td>\n",
       "      <td>2166</td>\n",
       "    </tr>\n",
       "  </tbody>\n",
       "</table>\n",
       "</div>"
      ],
      "text/plain": [
       "   ALEXA_RANK EMPLOYEE_RANGE              INDUSTRY    id\n",
       "0   4489573.0       11 to 25                   NaN  4916\n",
       "1   4027013.0        6 to 10                   NaN  3489\n",
       "2  16000001.0       26 to 50     COMPUTER_SOFTWARE  2813\n",
       "3    814822.0  1001 to 10000  HOSPITAL_HEALTH_CARE   727\n",
       "4  16000001.0       26 to 50                   NaN  2166"
      ]
     },
     "execution_count": 19,
     "metadata": {},
     "output_type": "execute_result"
    }
   ],
   "source": [
    "noncustomers.head()"
   ]
  },
  {
   "cell_type": "code",
   "execution_count": 20,
   "id": "7167e313-5003-40c8-af02-a05e5dae53c1",
   "metadata": {},
   "outputs": [
    {
     "data": {
      "text/plain": [
       "count    4.889000e+03\n",
       "mean     1.139675e+07\n",
       "std      6.595254e+06\n",
       "min      1.300000e+01\n",
       "25%      3.955222e+06\n",
       "50%      1.600000e+07\n",
       "75%      1.600000e+07\n",
       "max      1.600000e+07\n",
       "Name: ALEXA_RANK, dtype: float64"
      ]
     },
     "execution_count": 20,
     "metadata": {},
     "output_type": "execute_result"
    }
   ],
   "source": [
    "noncustomers.ALEXA_RANK.describe()"
   ]
  },
  {
   "cell_type": "code",
   "execution_count": 21,
   "id": "32631c26-9f06-4bef-af59-19975b38f0a0",
   "metadata": {},
   "outputs": [
    {
     "data": {
      "text/plain": [
       "np.float64(13.0)"
      ]
     },
     "execution_count": 21,
     "metadata": {},
     "output_type": "execute_result"
    }
   ],
   "source": [
    "noncustomers.ALEXA_RANK.min()"
   ]
  },
  {
   "cell_type": "code",
   "execution_count": 22,
   "id": "343a2da2-9f8d-4cf6-a18c-95b612cf5b32",
   "metadata": {},
   "outputs": [
    {
     "data": {
      "text/plain": [
       "np.float64(16000001.0)"
      ]
     },
     "execution_count": 22,
     "metadata": {},
     "output_type": "execute_result"
    }
   ],
   "source": [
    "noncustomers.ALEXA_RANK.max()"
   ]
  },
  {
   "cell_type": "code",
   "execution_count": 23,
   "id": "e76f2ed3-5f9e-4587-a45a-24a0ed5d81b9",
   "metadata": {},
   "outputs": [
    {
     "data": {
      "text/plain": [
       "np.float64(11396747.688279811)"
      ]
     },
     "execution_count": 23,
     "metadata": {},
     "output_type": "execute_result"
    }
   ],
   "source": [
    "noncustomers.ALEXA_RANK.mean()"
   ]
  },
  {
   "cell_type": "code",
   "execution_count": 24,
   "id": "ec47c8e5-a2a3-4acd-8840-474b2d8e7957",
   "metadata": {},
   "outputs": [
    {
     "data": {
      "text/plain": [
       "EMPLOYEE_RANGE\n",
       "2 to 5            1048\n",
       "6 to 10            904\n",
       "1                  599\n",
       "26 to 50           532\n",
       "51 to 200          386\n",
       "1001 to 10000      337\n",
       "11 to 25           336\n",
       "201 to 1000        293\n",
       "10,001 or more      36\n",
       "Name: count, dtype: int64"
      ]
     },
     "execution_count": 24,
     "metadata": {},
     "output_type": "execute_result"
    }
   ],
   "source": [
    "noncustomers.EMPLOYEE_RANGE.value_counts()"
   ]
  },
  {
   "cell_type": "code",
   "execution_count": 25,
   "id": "fdce63d2-cdfe-49a9-93dc-1c6f03847046",
   "metadata": {},
   "outputs": [
    {
     "data": {
      "text/plain": [
       "INDUSTRY\n",
       "COMPUTER_SOFTWARE                          207\n",
       "MARKETING_AND_ADVERTISING                   74\n",
       "HIGHER_EDUCATION                            69\n",
       "INFORMATION_TECHNOLOGY_AND_SERVICES         54\n",
       "Non-Profit/Educational Institution          52\n",
       "Technology - Software                       43\n",
       "Other                                       38\n",
       "REAL_ESTATE                                 34\n",
       "CONSUMER_SERVICES                           23\n",
       "Consulting/Advisory                         22\n",
       "FINANCIAL_SERVICES                          21\n",
       "EDUCATION_MANAGEMENT                        20\n",
       "Manufacturing                               18\n",
       "CONSTRUCTION                                18\n",
       "NON_PROFIT_ORGANIZATION_MANAGEMENT          16\n",
       "LEISURE_TRAVEL_TOURISM                      16\n",
       "MANAGEMENT_CONSULTING                       15\n",
       "Marketing Services                          15\n",
       "RETAIL                                      14\n",
       "PUBLISHING                                  13\n",
       "INSURANCE                                   13\n",
       "Education                                   12\n",
       "Consumer Products                           12\n",
       "AUTOMOTIVE                                  12\n",
       "HEALTH_WELLNESS_AND_FITNESS                 11\n",
       "IMPORT_AND_EXPORT                           11\n",
       "ELECTRICAL_ELECTRONIC_MANUFACTURING         10\n",
       "ARCHITECTURE_PLANNING                       10\n",
       "APPAREL_FASHION                             10\n",
       "Finance and Insurance                        9\n",
       "CONSUMER_GOODS                               9\n",
       "RESTAURANTS                                  9\n",
       "HOSPITAL_HEALTH_CARE                         9\n",
       "CONSUMER_ELECTRONICS                         9\n",
       "ENTERTAINMENT                                8\n",
       "HOSPITALITY                                  8\n",
       "DESIGN                                       8\n",
       "PRINTING                                     7\n",
       "RELIGIOUS_INSTITUTIONS                       7\n",
       "PROFESSIONAL_TRAINING_COACHING               7\n",
       "TELECOMMUNICATIONS                           7\n",
       "BUILDING_MATERIALS                           7\n",
       "TRANSPORTATION_TRUCKING_RAILROAD             6\n",
       "Healthcare                                   6\n",
       "FOOD_BEVERAGES                               6\n",
       "Technology - Hardware and Equipment          6\n",
       "CHEMICALS                                    6\n",
       "PUBLIC_RELATIONS_AND_COMMUNICATIONS          6\n",
       "OIL_ENERGY                                   6\n",
       "EVENTS_SERVICES                              6\n",
       "eCommerce                                    5\n",
       "LEGAL_SERVICES                               5\n",
       "COSMETICS                                    5\n",
       "PRIMARY_SECONDARY_EDUCATION                  5\n",
       "GOVERNMENT_ADMINISTRATION                    5\n",
       "E_LEARNING                                   5\n",
       "ACCOUNTING                                   5\n",
       "MUSIC                                        4\n",
       "MEDIA_PRODUCTION                             4\n",
       "CIVIC_SOCIAL_ORGANIZATION                    4\n",
       "Non-Profit                                   4\n",
       "AIRLINES_AVIATION                            4\n",
       "CIVIL_ENGINEERING                            4\n",
       "WHOLESALE                                    4\n",
       "BUSINESS_SUPPLIES_AND_EQUIPMENT              4\n",
       "ENVIRONMENTAL_SERVICES                       4\n",
       "BANKING                                      4\n",
       "MECHANICAL_OR_INDUSTRIAL_ENGINEERING         4\n",
       "STAFFING_AND_RECRUITING                      4\n",
       "PHOTOGRAPHY                                  4\n",
       "Software / IT                                4\n",
       "MEDICAL_DEVICES                              3\n",
       "ustedes                                      3\n",
       "Finance & Insurance                          3\n",
       "INFORMATION_SERVICES                         3\n",
       "Media & Publishing                           3\n",
       "LOGISTICS_AND_SUPPLY_CHAIN                   3\n",
       "LAW_PRACTICE                                 3\n",
       "HUMAN_RESOURCES                              3\n",
       "RESEARCH                                     3\n",
       "Business Services - General                  3\n",
       "NEWSPAPERS                                   3\n",
       "Non Profit/EDU/.gov                          3\n",
       "BIOTECHNOLOGY                                3\n",
       "MARKET_RESEARCH                              3\n",
       "RENEWABLES_ENVIRONMENT                       3\n",
       "B2C Services                                 2\n",
       "UTILITIES                                    2\n",
       "travel                                       2\n",
       "FOOD_PRODUCTION                              2\n",
       "Media                                        2\n",
       "Advertising & Marketing Services             2\n",
       "INDIVIDUAL_FAMILY_SERVICES                   2\n",
       "ONLINE_MEDIA                                 2\n",
       "TEXTILES                                     2\n",
       "Technology                                   2\n",
       "FURNITURE                                    2\n",
       "Manufacturing & Wholesale                    2\n",
       "TRANSLATION_AND_LOCALIZATION                 2\n",
       "SaaS                                         2\n",
       "Information Technology & Services            2\n",
       "RECREATIONAL_FACILITIES_AND_SERVICES         2\n",
       "Business Consulting                          2\n",
       "INDUSTRIAL_AUTOMATION                        2\n",
       "SPORTS                                       2\n",
       "MACHINERY                                    2\n",
       "Health, Medical, & Wellness                  2\n",
       "Recruiting/Staffing                          2\n",
       "Coaching/Business Services                   2\n",
       "Non Profit                                   2\n",
       "Other services                               2\n",
       "PHARMACEUTICALS                              2\n",
       "OUTSOURCING_OFFSHORING                       2\n",
       "BROADCAST_MEDIA                              2\n",
       "SECURITY_AND_INVESTIGATIONS                  2\n",
       "Agriculture                                  1\n",
       "Building, Construction And Architecture      1\n",
       "real estate                                  1\n",
       "Asesoría de Marketing                        1\n",
       "Health/Fitness                               1\n",
       "Real Estate & Construction                   1\n",
       "Mktg / PR / Web / SEO                        1\n",
       "CAPITAL_MARKETS                              1\n",
       "Consulting                                   1\n",
       "FACILITIES_SERVICES                          1\n",
       "PACKAGING_AND_CONTAINERS                     1\n",
       "Automotive & Transport                       1\n",
       "SEMICONDUCTORS                               1\n",
       "AVIATION_AEROSPACE                           1\n",
       "GLASS_CERAMICS_CONCRETE                      1\n",
       "PROGRAM_DEVELOPMENT                          1\n",
       "MEDICAL_PRACTICE                             1\n",
       "Healthcare - Services/Providers              1\n",
       "Banking and Finance                          1\n",
       "LAW_ENFORCEMENT                              1\n",
       "Finance                                      1\n",
       "Government, Public Admin                     1\n",
       "COMPUTER_HARDWARE                            1\n",
       "COMMERCIAL_REAL_ESTATE                       1\n",
       "Heath Care (Products or Services)            1\n",
       "INVESTMENT_MANAGEMENT                        1\n",
       "Telecom & Mobile Communications              1\n",
       "INTERNATIONAL_TRADE_AND_DEVELOPMENT          1\n",
       "DEFENSE_SPACE                                1\n",
       "Banking/Financial Services                   1\n",
       "COMPUTER_NETWORKING                          1\n",
       "INTERNET                                     1\n",
       "COMPUTER_NETWORK_SECURITY                    1\n",
       "WINE_AND_SPIRITS                             1\n",
       "SPORTING_GOODS                               1\n",
       "E- Commerce                                  1\n",
       "MENTAL_HEALTH_CARE                           1\n",
       "MARITIME                                     1\n",
       "Architecture                                 1\n",
       "Advertising and Marketing                    1\n",
       "Tiendas                                      1\n",
       "JUDICIARY                                    1\n",
       "FARMING                                      1\n",
       "GAMBLING_CASINOS                             1\n",
       "Reise                                        1\n",
       "Technology - Hardware & Equipment            1\n",
       "LIBRARIES                                    1\n",
       "Comercio Electrónico                         1\n",
       "Advertising                                  1\n",
       "Name: count, dtype: int64"
      ]
     },
     "execution_count": 25,
     "metadata": {},
     "output_type": "execute_result"
    }
   ],
   "source": [
    "noncustomers.INDUSTRY.value_counts()"
   ]
  },
  {
   "cell_type": "code",
   "execution_count": 26,
   "id": "86ab7fc6-f576-4496-9e0a-bd3a7677c6d3",
   "metadata": {},
   "outputs": [
    {
     "data": {
      "text/plain": [
       "5000"
      ]
     },
     "execution_count": 26,
     "metadata": {},
     "output_type": "execute_result"
    }
   ],
   "source": [
    "noncustomers[\"id\"].nunique()"
   ]
  },
  {
   "cell_type": "code",
   "execution_count": 27,
   "id": "d19c85eb-4411-4b50-8617-bfa1f998415a",
   "metadata": {},
   "outputs": [
    {
     "data": {
      "text/plain": [
       "id\n",
       "279     2\n",
       "278     2\n",
       "280     2\n",
       "4916    1\n",
       "4191    1\n",
       "Name: count, dtype: int64"
      ]
     },
     "execution_count": 27,
     "metadata": {},
     "output_type": "execute_result"
    }
   ],
   "source": [
    "noncustomers[\"id\"].value_counts().head()"
   ]
  },
  {
   "cell_type": "code",
   "execution_count": 28,
   "id": "4d1c54de-5efb-4656-9857-469bce03c3e8",
   "metadata": {},
   "outputs": [
    {
     "data": {
      "text/html": [
       "<div>\n",
       "<style scoped>\n",
       "    .dataframe tbody tr th:only-of-type {\n",
       "        vertical-align: middle;\n",
       "    }\n",
       "\n",
       "    .dataframe tbody tr th {\n",
       "        vertical-align: top;\n",
       "    }\n",
       "\n",
       "    .dataframe thead th {\n",
       "        text-align: right;\n",
       "    }\n",
       "</style>\n",
       "<table border=\"1\" class=\"dataframe\">\n",
       "  <thead>\n",
       "    <tr style=\"text-align: right;\">\n",
       "      <th></th>\n",
       "      <th>ALEXA_RANK</th>\n",
       "      <th>EMPLOYEE_RANGE</th>\n",
       "      <th>INDUSTRY</th>\n",
       "      <th>id</th>\n",
       "    </tr>\n",
       "  </thead>\n",
       "  <tbody>\n",
       "    <tr>\n",
       "      <th>922</th>\n",
       "      <td>58796.0</td>\n",
       "      <td>1001 to 10000</td>\n",
       "      <td>CONSUMER_SERVICES</td>\n",
       "      <td>279</td>\n",
       "    </tr>\n",
       "    <tr>\n",
       "      <th>923</th>\n",
       "      <td>NaN</td>\n",
       "      <td>1001 to 10000</td>\n",
       "      <td>NaN</td>\n",
       "      <td>279</td>\n",
       "    </tr>\n",
       "  </tbody>\n",
       "</table>\n",
       "</div>"
      ],
      "text/plain": [
       "     ALEXA_RANK EMPLOYEE_RANGE           INDUSTRY   id\n",
       "922     58796.0  1001 to 10000  CONSUMER_SERVICES  279\n",
       "923         NaN  1001 to 10000                NaN  279"
      ]
     },
     "execution_count": 28,
     "metadata": {},
     "output_type": "execute_result"
    }
   ],
   "source": [
    "noncustomers[noncustomers[\"id\"] == 279].head()"
   ]
  },
  {
   "cell_type": "code",
   "execution_count": 29,
   "id": "54486768-b606-471d-981a-c40f47732376",
   "metadata": {},
   "outputs": [
    {
     "data": {
      "text/html": [
       "<div>\n",
       "<style scoped>\n",
       "    .dataframe tbody tr th:only-of-type {\n",
       "        vertical-align: middle;\n",
       "    }\n",
       "\n",
       "    .dataframe tbody tr th {\n",
       "        vertical-align: top;\n",
       "    }\n",
       "\n",
       "    .dataframe thead th {\n",
       "        text-align: right;\n",
       "    }\n",
       "</style>\n",
       "<table border=\"1\" class=\"dataframe\">\n",
       "  <thead>\n",
       "    <tr style=\"text-align: right;\">\n",
       "      <th></th>\n",
       "      <th>ALEXA_RANK</th>\n",
       "      <th>EMPLOYEE_RANGE</th>\n",
       "      <th>INDUSTRY</th>\n",
       "      <th>id</th>\n",
       "    </tr>\n",
       "  </thead>\n",
       "  <tbody>\n",
       "    <tr>\n",
       "      <th>446</th>\n",
       "      <td>58796.0</td>\n",
       "      <td>1001 to 10000</td>\n",
       "      <td>CONSUMER_SERVICES</td>\n",
       "      <td>278</td>\n",
       "    </tr>\n",
       "    <tr>\n",
       "      <th>447</th>\n",
       "      <td>NaN</td>\n",
       "      <td>1001 to 10000</td>\n",
       "      <td>NaN</td>\n",
       "      <td>278</td>\n",
       "    </tr>\n",
       "  </tbody>\n",
       "</table>\n",
       "</div>"
      ],
      "text/plain": [
       "     ALEXA_RANK EMPLOYEE_RANGE           INDUSTRY   id\n",
       "446     58796.0  1001 to 10000  CONSUMER_SERVICES  278\n",
       "447         NaN  1001 to 10000                NaN  278"
      ]
     },
     "execution_count": 29,
     "metadata": {},
     "output_type": "execute_result"
    }
   ],
   "source": [
    "noncustomers[noncustomers[\"id\"] == 278].head()"
   ]
  },
  {
   "cell_type": "code",
   "execution_count": 30,
   "id": "50fe8971-2bb6-4714-a2b6-9d6a11481337",
   "metadata": {},
   "outputs": [
    {
     "data": {
      "text/html": [
       "<div>\n",
       "<style scoped>\n",
       "    .dataframe tbody tr th:only-of-type {\n",
       "        vertical-align: middle;\n",
       "    }\n",
       "\n",
       "    .dataframe tbody tr th {\n",
       "        vertical-align: top;\n",
       "    }\n",
       "\n",
       "    .dataframe thead th {\n",
       "        text-align: right;\n",
       "    }\n",
       "</style>\n",
       "<table border=\"1\" class=\"dataframe\">\n",
       "  <thead>\n",
       "    <tr style=\"text-align: right;\">\n",
       "      <th></th>\n",
       "      <th>ALEXA_RANK</th>\n",
       "      <th>EMPLOYEE_RANGE</th>\n",
       "      <th>INDUSTRY</th>\n",
       "      <th>id</th>\n",
       "    </tr>\n",
       "  </thead>\n",
       "  <tbody>\n",
       "    <tr>\n",
       "      <th>443</th>\n",
       "      <td>58796.0</td>\n",
       "      <td>1001 to 10000</td>\n",
       "      <td>CONSUMER_SERVICES</td>\n",
       "      <td>280</td>\n",
       "    </tr>\n",
       "    <tr>\n",
       "      <th>444</th>\n",
       "      <td>NaN</td>\n",
       "      <td>1001 to 10000</td>\n",
       "      <td>NaN</td>\n",
       "      <td>280</td>\n",
       "    </tr>\n",
       "  </tbody>\n",
       "</table>\n",
       "</div>"
      ],
      "text/plain": [
       "     ALEXA_RANK EMPLOYEE_RANGE           INDUSTRY   id\n",
       "443     58796.0  1001 to 10000  CONSUMER_SERVICES  280\n",
       "444         NaN  1001 to 10000                NaN  280"
      ]
     },
     "execution_count": 30,
     "metadata": {},
     "output_type": "execute_result"
    }
   ],
   "source": [
    "noncustomers[noncustomers[\"id\"] == 280].head()"
   ]
  },
  {
   "cell_type": "code",
   "execution_count": 31,
   "id": "5eabcdb4-e2cc-4fc5-bdb4-673930de53ea",
   "metadata": {},
   "outputs": [
    {
     "data": {
      "text/plain": [
       "(114, 4)"
      ]
     },
     "execution_count": 31,
     "metadata": {},
     "output_type": "execute_result"
    }
   ],
   "source": [
    "noncustomers[noncustomers[\"ALEXA_RANK\"].isna()].shape"
   ]
  },
  {
   "cell_type": "code",
   "execution_count": 32,
   "id": "f756eebb-0977-4920-94c5-08e6a8b5d222",
   "metadata": {},
   "outputs": [
    {
     "data": {
      "text/html": [
       "<div>\n",
       "<style scoped>\n",
       "    .dataframe tbody tr th:only-of-type {\n",
       "        vertical-align: middle;\n",
       "    }\n",
       "\n",
       "    .dataframe tbody tr th {\n",
       "        vertical-align: top;\n",
       "    }\n",
       "\n",
       "    .dataframe thead th {\n",
       "        text-align: right;\n",
       "    }\n",
       "</style>\n",
       "<table border=\"1\" class=\"dataframe\">\n",
       "  <thead>\n",
       "    <tr style=\"text-align: right;\">\n",
       "      <th></th>\n",
       "      <th>ALEXA_RANK</th>\n",
       "      <th>EMPLOYEE_RANGE</th>\n",
       "      <th>INDUSTRY</th>\n",
       "      <th>id</th>\n",
       "    </tr>\n",
       "  </thead>\n",
       "  <tbody>\n",
       "    <tr>\n",
       "      <th>72</th>\n",
       "      <td>NaN</td>\n",
       "      <td>51 to 200</td>\n",
       "      <td>NaN</td>\n",
       "      <td>1697</td>\n",
       "    </tr>\n",
       "    <tr>\n",
       "      <th>113</th>\n",
       "      <td>NaN</td>\n",
       "      <td>1001 to 10000</td>\n",
       "      <td>COMPUTER_SOFTWARE</td>\n",
       "      <td>3074</td>\n",
       "    </tr>\n",
       "    <tr>\n",
       "      <th>122</th>\n",
       "      <td>NaN</td>\n",
       "      <td>NaN</td>\n",
       "      <td>NaN</td>\n",
       "      <td>4412</td>\n",
       "    </tr>\n",
       "    <tr>\n",
       "      <th>396</th>\n",
       "      <td>NaN</td>\n",
       "      <td>10,001 or more</td>\n",
       "      <td>COMPUTER_SOFTWARE</td>\n",
       "      <td>1049</td>\n",
       "    </tr>\n",
       "    <tr>\n",
       "      <th>444</th>\n",
       "      <td>NaN</td>\n",
       "      <td>1001 to 10000</td>\n",
       "      <td>NaN</td>\n",
       "      <td>280</td>\n",
       "    </tr>\n",
       "  </tbody>\n",
       "</table>\n",
       "</div>"
      ],
      "text/plain": [
       "     ALEXA_RANK  EMPLOYEE_RANGE           INDUSTRY    id\n",
       "72          NaN       51 to 200                NaN  1697\n",
       "113         NaN   1001 to 10000  COMPUTER_SOFTWARE  3074\n",
       "122         NaN             NaN                NaN  4412\n",
       "396         NaN  10,001 or more  COMPUTER_SOFTWARE  1049\n",
       "444         NaN   1001 to 10000                NaN   280"
      ]
     },
     "execution_count": 32,
     "metadata": {},
     "output_type": "execute_result"
    }
   ],
   "source": [
    "noncustomers[noncustomers[\"ALEXA_RANK\"].isna()].head()"
   ]
  },
  {
   "cell_type": "markdown",
   "id": "cb6c4868-a33f-47aa-ad97-efa89799788f",
   "metadata": {},
   "source": [
    "# usage"
   ]
  },
  {
   "cell_type": "code",
   "execution_count": 33,
   "id": "5a727403-4cfb-449f-bfe8-e0530fcb4c8b",
   "metadata": {},
   "outputs": [
    {
     "data": {
      "text/plain": [
       "(25387, 10)"
      ]
     },
     "execution_count": 33,
     "metadata": {},
     "output_type": "execute_result"
    }
   ],
   "source": [
    "usage.shape"
   ]
  },
  {
   "cell_type": "code",
   "execution_count": 34,
   "id": "a720eba7-724d-4737-aeec-75aa1f86bbc9",
   "metadata": {},
   "outputs": [
    {
     "data": {
      "text/html": [
       "<div>\n",
       "<style scoped>\n",
       "    .dataframe tbody tr th:only-of-type {\n",
       "        vertical-align: middle;\n",
       "    }\n",
       "\n",
       "    .dataframe tbody tr th {\n",
       "        vertical-align: top;\n",
       "    }\n",
       "\n",
       "    .dataframe thead th {\n",
       "        text-align: right;\n",
       "    }\n",
       "</style>\n",
       "<table border=\"1\" class=\"dataframe\">\n",
       "  <thead>\n",
       "    <tr style=\"text-align: right;\">\n",
       "      <th></th>\n",
       "      <th>WHEN_TIMESTAMP</th>\n",
       "      <th>ACTIONS_CRM_CONTACTS</th>\n",
       "      <th>ACTIONS_CRM_COMPANIES</th>\n",
       "      <th>ACTIONS_CRM_DEALS</th>\n",
       "      <th>ACTIONS_EMAIL</th>\n",
       "      <th>USERS_CRM_CONTACTS</th>\n",
       "      <th>USERS_CRM_COMPANIES</th>\n",
       "      <th>USERS_CRM_DEALS</th>\n",
       "      <th>USERS_EMAIL</th>\n",
       "      <th>id</th>\n",
       "    </tr>\n",
       "  </thead>\n",
       "  <tbody>\n",
       "    <tr>\n",
       "      <th>0</th>\n",
       "      <td>2020-06-01 00:00:00.000</td>\n",
       "      <td>278</td>\n",
       "      <td>0</td>\n",
       "      <td>34</td>\n",
       "      <td>0</td>\n",
       "      <td>2</td>\n",
       "      <td>0</td>\n",
       "      <td>2</td>\n",
       "      <td>0</td>\n",
       "      <td>616</td>\n",
       "    </tr>\n",
       "    <tr>\n",
       "      <th>1</th>\n",
       "      <td>2020-04-20 00:00:00.000</td>\n",
       "      <td>0</td>\n",
       "      <td>0</td>\n",
       "      <td>0</td>\n",
       "      <td>0</td>\n",
       "      <td>0</td>\n",
       "      <td>0</td>\n",
       "      <td>0</td>\n",
       "      <td>0</td>\n",
       "      <td>3059</td>\n",
       "    </tr>\n",
       "    <tr>\n",
       "      <th>2</th>\n",
       "      <td>2019-04-29 00:00:00.000</td>\n",
       "      <td>210</td>\n",
       "      <td>1</td>\n",
       "      <td>17</td>\n",
       "      <td>11</td>\n",
       "      <td>3</td>\n",
       "      <td>1</td>\n",
       "      <td>4</td>\n",
       "      <td>1</td>\n",
       "      <td>2813</td>\n",
       "    </tr>\n",
       "    <tr>\n",
       "      <th>3</th>\n",
       "      <td>2020-02-24 00:00:00.000</td>\n",
       "      <td>1</td>\n",
       "      <td>1</td>\n",
       "      <td>1</td>\n",
       "      <td>0</td>\n",
       "      <td>1</td>\n",
       "      <td>1</td>\n",
       "      <td>1</td>\n",
       "      <td>0</td>\n",
       "      <td>5076</td>\n",
       "    </tr>\n",
       "    <tr>\n",
       "      <th>4</th>\n",
       "      <td>2020-02-17 00:00:00.000</td>\n",
       "      <td>9</td>\n",
       "      <td>9</td>\n",
       "      <td>7</td>\n",
       "      <td>0</td>\n",
       "      <td>1</td>\n",
       "      <td>1</td>\n",
       "      <td>1</td>\n",
       "      <td>0</td>\n",
       "      <td>3983</td>\n",
       "    </tr>\n",
       "  </tbody>\n",
       "</table>\n",
       "</div>"
      ],
      "text/plain": [
       "            WHEN_TIMESTAMP  ACTIONS_CRM_CONTACTS  ACTIONS_CRM_COMPANIES  \\\n",
       "0  2020-06-01 00:00:00.000                   278                      0   \n",
       "1  2020-04-20 00:00:00.000                     0                      0   \n",
       "2  2019-04-29 00:00:00.000                   210                      1   \n",
       "3  2020-02-24 00:00:00.000                     1                      1   \n",
       "4  2020-02-17 00:00:00.000                     9                      9   \n",
       "\n",
       "   ACTIONS_CRM_DEALS  ACTIONS_EMAIL  USERS_CRM_CONTACTS  USERS_CRM_COMPANIES  \\\n",
       "0                 34              0                   2                    0   \n",
       "1                  0              0                   0                    0   \n",
       "2                 17             11                   3                    1   \n",
       "3                  1              0                   1                    1   \n",
       "4                  7              0                   1                    1   \n",
       "\n",
       "   USERS_CRM_DEALS  USERS_EMAIL    id  \n",
       "0                2            0   616  \n",
       "1                0            0  3059  \n",
       "2                4            1  2813  \n",
       "3                1            0  5076  \n",
       "4                1            0  3983  "
      ]
     },
     "execution_count": 34,
     "metadata": {},
     "output_type": "execute_result"
    }
   ],
   "source": [
    "usage.head()"
   ]
  },
  {
   "cell_type": "code",
   "execution_count": 35,
   "id": "dd9cebfc-8c5a-489c-9c68-4b56304de7ac",
   "metadata": {},
   "outputs": [
    {
     "data": {
      "text/plain": [
       "WHEN_TIMESTAMP           object\n",
       "ACTIONS_CRM_CONTACTS      int64\n",
       "ACTIONS_CRM_COMPANIES     int64\n",
       "ACTIONS_CRM_DEALS         int64\n",
       "ACTIONS_EMAIL             int64\n",
       "USERS_CRM_CONTACTS        int64\n",
       "USERS_CRM_COMPANIES       int64\n",
       "USERS_CRM_DEALS           int64\n",
       "USERS_EMAIL               int64\n",
       "id                        int64\n",
       "dtype: object"
      ]
     },
     "execution_count": 35,
     "metadata": {},
     "output_type": "execute_result"
    }
   ],
   "source": [
    "usage.dtypes"
   ]
  },
  {
   "cell_type": "code",
   "execution_count": 36,
   "id": "2508c19c-d979-48b8-b99d-0fc3f60594ad",
   "metadata": {},
   "outputs": [],
   "source": [
    "usage[\"WHEN_TIMESTAMP\"] = pd.to_datetime(usage[\"WHEN_TIMESTAMP\"])"
   ]
  },
  {
   "cell_type": "code",
   "execution_count": 37,
   "id": "74f54ba1-e84f-4bd9-9ba1-28899d907c8e",
   "metadata": {},
   "outputs": [
    {
     "data": {
      "text/plain": [
       "Timestamp('2019-01-07 00:00:00')"
      ]
     },
     "execution_count": 37,
     "metadata": {},
     "output_type": "execute_result"
    }
   ],
   "source": [
    "usage.WHEN_TIMESTAMP.min()"
   ]
  },
  {
   "cell_type": "code",
   "execution_count": 38,
   "id": "724f16ae-bc0e-4894-b41c-ffb61b9af93f",
   "metadata": {},
   "outputs": [
    {
     "data": {
      "text/plain": [
       "Timestamp('2020-07-27 00:00:00')"
      ]
     },
     "execution_count": 38,
     "metadata": {},
     "output_type": "execute_result"
    }
   ],
   "source": [
    "usage.WHEN_TIMESTAMP.max()"
   ]
  },
  {
   "cell_type": "code",
   "execution_count": 39,
   "id": "0b7cf47b-68bf-493c-8bbc-8fef09a3b88c",
   "metadata": {},
   "outputs": [
    {
     "data": {
      "text/plain": [
       "82"
      ]
     },
     "execution_count": 39,
     "metadata": {},
     "output_type": "execute_result"
    }
   ],
   "source": [
    "usage.WHEN_TIMESTAMP.nunique()"
   ]
  },
  {
   "cell_type": "code",
   "execution_count": 40,
   "id": "10861bf4-5fb4-41ab-ad11-2cd810f695b8",
   "metadata": {},
   "outputs": [
    {
     "data": {
      "text/plain": [
       "WHEN_TIMESTAMP\n",
       "2020-02-03    454\n",
       "2020-02-10    452\n",
       "2020-06-08    443\n",
       "2020-07-06    440\n",
       "2020-07-13    435\n",
       "2020-07-27    432\n",
       "2020-07-20    432\n",
       "2020-06-01    423\n",
       "2020-02-24    419\n",
       "2020-05-25    418\n",
       "2020-02-17    417\n",
       "2020-06-15    415\n",
       "2020-06-22    414\n",
       "2020-01-13    413\n",
       "2020-06-29    411\n",
       "2019-12-09    404\n",
       "2020-05-18    401\n",
       "2020-01-20    398\n",
       "2020-01-27    394\n",
       "2020-05-11    393\n",
       "2020-05-04    392\n",
       "2020-04-20    388\n",
       "2020-01-06    386\n",
       "2020-04-27    384\n",
       "2020-04-06    379\n",
       "2020-03-09    378\n",
       "2020-04-13    377\n",
       "2020-03-02    376\n",
       "2020-03-30    369\n",
       "2019-11-18    369\n",
       "2019-12-16    365\n",
       "2019-11-25    362\n",
       "2019-12-02    360\n",
       "2019-11-11    358\n",
       "2019-10-28    354\n",
       "2019-10-07    348\n",
       "2019-12-30    346\n",
       "2019-09-30    344\n",
       "2020-03-16    344\n",
       "2020-03-23    343\n",
       "2019-10-21    341\n",
       "2019-09-23    337\n",
       "2019-11-04    325\n",
       "2019-10-14    320\n",
       "2019-12-23    313\n",
       "2019-09-16    307\n",
       "2019-08-19    293\n",
       "2019-09-02    284\n",
       "2019-09-09    284\n",
       "2019-08-26    271\n",
       "2019-08-05    266\n",
       "2019-06-03    266\n",
       "2019-08-12    265\n",
       "2019-05-27    262\n",
       "2019-06-10    261\n",
       "2019-06-17    258\n",
       "2019-05-06    249\n",
       "2019-07-15    248\n",
       "2019-05-20    248\n",
       "2019-07-29    243\n",
       "2019-07-22    238\n",
       "2019-05-13    235\n",
       "2019-06-24    229\n",
       "2019-07-08    226\n",
       "2019-07-01    223\n",
       "2019-04-29    221\n",
       "2019-04-01    208\n",
       "2019-04-22    206\n",
       "2019-04-15    206\n",
       "2019-04-08    197\n",
       "2019-03-11    186\n",
       "2019-03-04    180\n",
       "2019-03-18    173\n",
       "2019-03-25    173\n",
       "2019-02-18    160\n",
       "2019-02-11    157\n",
       "2019-02-25    152\n",
       "2019-02-04    148\n",
       "2019-01-21    143\n",
       "2019-01-28    125\n",
       "2019-01-14    118\n",
       "2019-01-07    112\n",
       "Name: count, dtype: int64"
      ]
     },
     "execution_count": 40,
     "metadata": {},
     "output_type": "execute_result"
    }
   ],
   "source": [
    "usage.WHEN_TIMESTAMP.value_counts()"
   ]
  },
  {
   "cell_type": "code",
   "execution_count": 41,
   "id": "be5d3133-1fe0-4400-a045-4cf8d85ad291",
   "metadata": {},
   "outputs": [
    {
     "data": {
      "text/plain": [
       "count    25387.000000\n",
       "mean        84.637452\n",
       "std        574.296451\n",
       "min          0.000000\n",
       "25%          0.000000\n",
       "50%          1.000000\n",
       "75%         23.000000\n",
       "max      27936.000000\n",
       "Name: ACTIONS_CRM_CONTACTS, dtype: float64"
      ]
     },
     "execution_count": 41,
     "metadata": {},
     "output_type": "execute_result"
    }
   ],
   "source": [
    "usage.ACTIONS_CRM_CONTACTS.describe()"
   ]
  },
  {
   "cell_type": "code",
   "execution_count": 42,
   "id": "0d706439-f84a-4591-af64-72ff3cd84f94",
   "metadata": {},
   "outputs": [
    {
     "data": {
      "text/plain": [
       "count    25387.000000\n",
       "mean        18.447788\n",
       "std         93.893250\n",
       "min          0.000000\n",
       "25%          0.000000\n",
       "50%          0.000000\n",
       "75%          2.000000\n",
       "max       2216.000000\n",
       "Name: ACTIONS_CRM_COMPANIES, dtype: float64"
      ]
     },
     "execution_count": 42,
     "metadata": {},
     "output_type": "execute_result"
    }
   ],
   "source": [
    "usage.ACTIONS_CRM_COMPANIES.describe()"
   ]
  },
  {
   "cell_type": "code",
   "execution_count": 43,
   "id": "01a2ed4e-9fe2-4825-b045-947b58a31ef7",
   "metadata": {
    "scrolled": true
   },
   "outputs": [
    {
     "data": {
      "text/plain": [
       "count    25387.00000\n",
       "mean        28.74999\n",
       "std        184.13845\n",
       "min          0.00000\n",
       "25%          0.00000\n",
       "50%          0.00000\n",
       "75%          4.00000\n",
       "max       7271.00000\n",
       "Name: ACTIONS_CRM_DEALS, dtype: float64"
      ]
     },
     "execution_count": 43,
     "metadata": {},
     "output_type": "execute_result"
    }
   ],
   "source": [
    "usage.ACTIONS_CRM_DEALS.describe()"
   ]
  },
  {
   "cell_type": "code",
   "execution_count": 44,
   "id": "e2186c16-7508-408c-9dab-fe928b97c885",
   "metadata": {
    "scrolled": true
   },
   "outputs": [
    {
     "data": {
      "text/plain": [
       "count    25387.000000\n",
       "mean         1.217434\n",
       "std          6.209142\n",
       "min          0.000000\n",
       "25%          0.000000\n",
       "50%          0.000000\n",
       "75%          0.000000\n",
       "max        283.000000\n",
       "Name: ACTIONS_EMAIL, dtype: float64"
      ]
     },
     "execution_count": 44,
     "metadata": {},
     "output_type": "execute_result"
    }
   ],
   "source": [
    "usage.ACTIONS_EMAIL.describe()"
   ]
  },
  {
   "cell_type": "code",
   "execution_count": 45,
   "id": "48b64966-40cd-42b2-9790-1c40d37ba4cd",
   "metadata": {
    "scrolled": true
   },
   "outputs": [
    {
     "data": {
      "text/plain": [
       "count    25387.000000\n",
       "mean         2.237956\n",
       "std          7.471049\n",
       "min          0.000000\n",
       "25%          0.000000\n",
       "50%          1.000000\n",
       "75%          2.000000\n",
       "max        376.000000\n",
       "Name: USERS_CRM_CONTACTS, dtype: float64"
      ]
     },
     "execution_count": 45,
     "metadata": {},
     "output_type": "execute_result"
    }
   ],
   "source": [
    "usage.USERS_CRM_CONTACTS.describe()"
   ]
  },
  {
   "cell_type": "code",
   "execution_count": 46,
   "id": "9457ca57-0d24-4a40-aaca-9eb5654ae6c1",
   "metadata": {
    "scrolled": true
   },
   "outputs": [
    {
     "data": {
      "text/plain": [
       "count    25387.000000\n",
       "mean         1.036830\n",
       "std          3.391557\n",
       "min          0.000000\n",
       "25%          0.000000\n",
       "50%          0.000000\n",
       "75%          1.000000\n",
       "max         60.000000\n",
       "Name: USERS_CRM_COMPANIES, dtype: float64"
      ]
     },
     "execution_count": 46,
     "metadata": {},
     "output_type": "execute_result"
    }
   ],
   "source": [
    "usage.USERS_CRM_COMPANIES.describe()"
   ]
  },
  {
   "cell_type": "code",
   "execution_count": 47,
   "id": "ecba03fb-9480-47ae-94a1-1e685bbdf64b",
   "metadata": {
    "scrolled": true
   },
   "outputs": [
    {
     "data": {
      "text/plain": [
       "count    25387.000000\n",
       "mean         1.355300\n",
       "std          4.430318\n",
       "min          0.000000\n",
       "25%          0.000000\n",
       "50%          0.000000\n",
       "75%          1.000000\n",
       "max        123.000000\n",
       "Name: USERS_CRM_DEALS, dtype: float64"
      ]
     },
     "execution_count": 47,
     "metadata": {},
     "output_type": "execute_result"
    }
   ],
   "source": [
    "usage.USERS_CRM_DEALS.describe()"
   ]
  },
  {
   "cell_type": "code",
   "execution_count": 48,
   "id": "fff03969-0e6c-46a1-a8a4-32b648cc1d19",
   "metadata": {
    "scrolled": true
   },
   "outputs": [
    {
     "data": {
      "text/plain": [
       "count    25387.000000\n",
       "mean         0.224682\n",
       "std          0.755046\n",
       "min          0.000000\n",
       "25%          0.000000\n",
       "50%          0.000000\n",
       "75%          0.000000\n",
       "max         13.000000\n",
       "Name: USERS_EMAIL, dtype: float64"
      ]
     },
     "execution_count": 48,
     "metadata": {},
     "output_type": "execute_result"
    }
   ],
   "source": [
    "usage.USERS_EMAIL.describe()"
   ]
  },
  {
   "cell_type": "code",
   "execution_count": 49,
   "id": "e931ffbf-07bd-406c-9803-0b8c5ec38331",
   "metadata": {},
   "outputs": [
    {
     "data": {
      "text/plain": [
       "3569"
      ]
     },
     "execution_count": 49,
     "metadata": {},
     "output_type": "execute_result"
    }
   ],
   "source": [
    "usage.id.nunique()"
   ]
  },
  {
   "cell_type": "code",
   "execution_count": null,
   "id": "3f3f0078-da87-4437-80a9-ae9691dbf1dd",
   "metadata": {},
   "outputs": [],
   "source": []
  },
  {
   "cell_type": "code",
   "execution_count": null,
   "id": "f5d254d3-1c84-44ae-9080-03033692f741",
   "metadata": {},
   "outputs": [],
   "source": []
  },
  {
   "cell_type": "code",
   "execution_count": null,
   "id": "0688f356-ec82-4d1a-81cc-a628d77cd2f2",
   "metadata": {},
   "outputs": [],
   "source": []
  }
 ],
 "metadata": {
  "kernelspec": {
   "display_name": "Python 3 (ipykernel)",
   "language": "python",
   "name": "python3"
  },
  "language_info": {
   "codemirror_mode": {
    "name": "ipython",
    "version": 3
   },
   "file_extension": ".py",
   "mimetype": "text/x-python",
   "name": "python",
   "nbconvert_exporter": "python",
   "pygments_lexer": "ipython3",
   "version": "3.13.2"
  }
 },
 "nbformat": 4,
 "nbformat_minor": 5
}
